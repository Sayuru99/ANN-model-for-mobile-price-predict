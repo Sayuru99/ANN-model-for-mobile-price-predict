{
  "nbformat": 4,
  "nbformat_minor": 0,
  "metadata": {
    "colab": {
      "name": "ANN model for mobile price predict.ipynb",
      "provenance": [],
      "mount_file_id": "14LZPtBwH0EG1rKvpVCUFQm3EFgf84zY2",
      "authorship_tag": "ABX9TyMlOPy9jI24PsgGDn3O8oRl",
      "include_colab_link": true
    },
    "kernelspec": {
      "name": "python3",
      "display_name": "Python 3"
    },
    "language_info": {
      "name": "python"
    }
  },
  "cells": [
    {
      "cell_type": "markdown",
      "metadata": {
        "id": "view-in-github",
        "colab_type": "text"
      },
      "source": [
        "<a href=\"https://colab.research.google.com/github/Sayuru99/ANN-model-for-mobile-price-predict/blob/main/ANN_model_for_mobile_price_predict.ipynb\" target=\"_parent\"><img src=\"https://colab.research.google.com/assets/colab-badge.svg\" alt=\"Open In Colab\"/></a>"
      ]
    },
    {
      "cell_type": "code",
      "execution_count": 1,
      "metadata": {
        "id": "znS8XEuq8pqn"
      },
      "outputs": [],
      "source": [
        "import pandas as pd"
      ]
    },
    {
      "cell_type": "code",
      "source": [
        "df=pd.read_csv('/content/drive/MyDrive/Mobile_Price_Classification-220531-204702.csv')"
      ],
      "metadata": {
        "id": "ApuRPAgH8rmS"
      },
      "execution_count": 5,
      "outputs": []
    },
    {
      "cell_type": "code",
      "source": [
        "df"
      ],
      "metadata": {
        "colab": {
          "base_uri": "https://localhost:8080/",
          "height": 468
        },
        "id": "XSKyeRne8-Rq",
        "outputId": "3ace8cb1-2d93-435c-ac46-46edcc976c6a"
      },
      "execution_count": 6,
      "outputs": [
        {
          "output_type": "execute_result",
          "data": {
            "text/plain": [
              "      battery_power  blue  clock_speed  dual_sim  fc  four_g  int_memory  \\\n",
              "0               842     0          2.2         0   1       0           7   \n",
              "1              1021     1          0.5         1   0       1          53   \n",
              "2               563     1          0.5         1   2       1          41   \n",
              "3               615     1          2.5         0   0       0          10   \n",
              "4              1821     1          1.2         0  13       1          44   \n",
              "...             ...   ...          ...       ...  ..     ...         ...   \n",
              "1995            794     1          0.5         1   0       1           2   \n",
              "1996           1965     1          2.6         1   0       0          39   \n",
              "1997           1911     0          0.9         1   1       1          36   \n",
              "1998           1512     0          0.9         0   4       1          46   \n",
              "1999            510     1          2.0         1   5       1          45   \n",
              "\n",
              "      m_dep  mobile_wt  n_cores  ...  px_height  px_width   ram  sc_h  sc_w  \\\n",
              "0       0.6        188        2  ...         20       756  2549     9     7   \n",
              "1       0.7        136        3  ...        905      1988  2631    17     3   \n",
              "2       0.9        145        5  ...       1263      1716  2603    11     2   \n",
              "3       0.8        131        6  ...       1216      1786  2769    16     8   \n",
              "4       0.6        141        2  ...       1208      1212  1411     8     2   \n",
              "...     ...        ...      ...  ...        ...       ...   ...   ...   ...   \n",
              "1995    0.8        106        6  ...       1222      1890   668    13     4   \n",
              "1996    0.2        187        4  ...        915      1965  2032    11    10   \n",
              "1997    0.7        108        8  ...        868      1632  3057     9     1   \n",
              "1998    0.1        145        5  ...        336       670   869    18    10   \n",
              "1999    0.9        168        6  ...        483       754  3919    19     4   \n",
              "\n",
              "      talk_time  three_g  touch_screen  wifi  price_range  \n",
              "0            19        0             0     1            1  \n",
              "1             7        1             1     0            0  \n",
              "2             9        1             1     0            0  \n",
              "3            11        1             0     0            0  \n",
              "4            15        1             1     0            1  \n",
              "...         ...      ...           ...   ...          ...  \n",
              "1995         19        1             1     0            0  \n",
              "1996         16        1             1     1            0  \n",
              "1997          5        1             1     0            1  \n",
              "1998         19        1             1     1            0  \n",
              "1999          2        1             1     1            1  \n",
              "\n",
              "[2000 rows x 21 columns]"
            ],
            "text/html": [
              "\n",
              "  <div id=\"df-13c0d510-f202-4cda-b404-798a33c59842\">\n",
              "    <div class=\"colab-df-container\">\n",
              "      <div>\n",
              "<style scoped>\n",
              "    .dataframe tbody tr th:only-of-type {\n",
              "        vertical-align: middle;\n",
              "    }\n",
              "\n",
              "    .dataframe tbody tr th {\n",
              "        vertical-align: top;\n",
              "    }\n",
              "\n",
              "    .dataframe thead th {\n",
              "        text-align: right;\n",
              "    }\n",
              "</style>\n",
              "<table border=\"1\" class=\"dataframe\">\n",
              "  <thead>\n",
              "    <tr style=\"text-align: right;\">\n",
              "      <th></th>\n",
              "      <th>battery_power</th>\n",
              "      <th>blue</th>\n",
              "      <th>clock_speed</th>\n",
              "      <th>dual_sim</th>\n",
              "      <th>fc</th>\n",
              "      <th>four_g</th>\n",
              "      <th>int_memory</th>\n",
              "      <th>m_dep</th>\n",
              "      <th>mobile_wt</th>\n",
              "      <th>n_cores</th>\n",
              "      <th>...</th>\n",
              "      <th>px_height</th>\n",
              "      <th>px_width</th>\n",
              "      <th>ram</th>\n",
              "      <th>sc_h</th>\n",
              "      <th>sc_w</th>\n",
              "      <th>talk_time</th>\n",
              "      <th>three_g</th>\n",
              "      <th>touch_screen</th>\n",
              "      <th>wifi</th>\n",
              "      <th>price_range</th>\n",
              "    </tr>\n",
              "  </thead>\n",
              "  <tbody>\n",
              "    <tr>\n",
              "      <th>0</th>\n",
              "      <td>842</td>\n",
              "      <td>0</td>\n",
              "      <td>2.2</td>\n",
              "      <td>0</td>\n",
              "      <td>1</td>\n",
              "      <td>0</td>\n",
              "      <td>7</td>\n",
              "      <td>0.6</td>\n",
              "      <td>188</td>\n",
              "      <td>2</td>\n",
              "      <td>...</td>\n",
              "      <td>20</td>\n",
              "      <td>756</td>\n",
              "      <td>2549</td>\n",
              "      <td>9</td>\n",
              "      <td>7</td>\n",
              "      <td>19</td>\n",
              "      <td>0</td>\n",
              "      <td>0</td>\n",
              "      <td>1</td>\n",
              "      <td>1</td>\n",
              "    </tr>\n",
              "    <tr>\n",
              "      <th>1</th>\n",
              "      <td>1021</td>\n",
              "      <td>1</td>\n",
              "      <td>0.5</td>\n",
              "      <td>1</td>\n",
              "      <td>0</td>\n",
              "      <td>1</td>\n",
              "      <td>53</td>\n",
              "      <td>0.7</td>\n",
              "      <td>136</td>\n",
              "      <td>3</td>\n",
              "      <td>...</td>\n",
              "      <td>905</td>\n",
              "      <td>1988</td>\n",
              "      <td>2631</td>\n",
              "      <td>17</td>\n",
              "      <td>3</td>\n",
              "      <td>7</td>\n",
              "      <td>1</td>\n",
              "      <td>1</td>\n",
              "      <td>0</td>\n",
              "      <td>0</td>\n",
              "    </tr>\n",
              "    <tr>\n",
              "      <th>2</th>\n",
              "      <td>563</td>\n",
              "      <td>1</td>\n",
              "      <td>0.5</td>\n",
              "      <td>1</td>\n",
              "      <td>2</td>\n",
              "      <td>1</td>\n",
              "      <td>41</td>\n",
              "      <td>0.9</td>\n",
              "      <td>145</td>\n",
              "      <td>5</td>\n",
              "      <td>...</td>\n",
              "      <td>1263</td>\n",
              "      <td>1716</td>\n",
              "      <td>2603</td>\n",
              "      <td>11</td>\n",
              "      <td>2</td>\n",
              "      <td>9</td>\n",
              "      <td>1</td>\n",
              "      <td>1</td>\n",
              "      <td>0</td>\n",
              "      <td>0</td>\n",
              "    </tr>\n",
              "    <tr>\n",
              "      <th>3</th>\n",
              "      <td>615</td>\n",
              "      <td>1</td>\n",
              "      <td>2.5</td>\n",
              "      <td>0</td>\n",
              "      <td>0</td>\n",
              "      <td>0</td>\n",
              "      <td>10</td>\n",
              "      <td>0.8</td>\n",
              "      <td>131</td>\n",
              "      <td>6</td>\n",
              "      <td>...</td>\n",
              "      <td>1216</td>\n",
              "      <td>1786</td>\n",
              "      <td>2769</td>\n",
              "      <td>16</td>\n",
              "      <td>8</td>\n",
              "      <td>11</td>\n",
              "      <td>1</td>\n",
              "      <td>0</td>\n",
              "      <td>0</td>\n",
              "      <td>0</td>\n",
              "    </tr>\n",
              "    <tr>\n",
              "      <th>4</th>\n",
              "      <td>1821</td>\n",
              "      <td>1</td>\n",
              "      <td>1.2</td>\n",
              "      <td>0</td>\n",
              "      <td>13</td>\n",
              "      <td>1</td>\n",
              "      <td>44</td>\n",
              "      <td>0.6</td>\n",
              "      <td>141</td>\n",
              "      <td>2</td>\n",
              "      <td>...</td>\n",
              "      <td>1208</td>\n",
              "      <td>1212</td>\n",
              "      <td>1411</td>\n",
              "      <td>8</td>\n",
              "      <td>2</td>\n",
              "      <td>15</td>\n",
              "      <td>1</td>\n",
              "      <td>1</td>\n",
              "      <td>0</td>\n",
              "      <td>1</td>\n",
              "    </tr>\n",
              "    <tr>\n",
              "      <th>...</th>\n",
              "      <td>...</td>\n",
              "      <td>...</td>\n",
              "      <td>...</td>\n",
              "      <td>...</td>\n",
              "      <td>...</td>\n",
              "      <td>...</td>\n",
              "      <td>...</td>\n",
              "      <td>...</td>\n",
              "      <td>...</td>\n",
              "      <td>...</td>\n",
              "      <td>...</td>\n",
              "      <td>...</td>\n",
              "      <td>...</td>\n",
              "      <td>...</td>\n",
              "      <td>...</td>\n",
              "      <td>...</td>\n",
              "      <td>...</td>\n",
              "      <td>...</td>\n",
              "      <td>...</td>\n",
              "      <td>...</td>\n",
              "      <td>...</td>\n",
              "    </tr>\n",
              "    <tr>\n",
              "      <th>1995</th>\n",
              "      <td>794</td>\n",
              "      <td>1</td>\n",
              "      <td>0.5</td>\n",
              "      <td>1</td>\n",
              "      <td>0</td>\n",
              "      <td>1</td>\n",
              "      <td>2</td>\n",
              "      <td>0.8</td>\n",
              "      <td>106</td>\n",
              "      <td>6</td>\n",
              "      <td>...</td>\n",
              "      <td>1222</td>\n",
              "      <td>1890</td>\n",
              "      <td>668</td>\n",
              "      <td>13</td>\n",
              "      <td>4</td>\n",
              "      <td>19</td>\n",
              "      <td>1</td>\n",
              "      <td>1</td>\n",
              "      <td>0</td>\n",
              "      <td>0</td>\n",
              "    </tr>\n",
              "    <tr>\n",
              "      <th>1996</th>\n",
              "      <td>1965</td>\n",
              "      <td>1</td>\n",
              "      <td>2.6</td>\n",
              "      <td>1</td>\n",
              "      <td>0</td>\n",
              "      <td>0</td>\n",
              "      <td>39</td>\n",
              "      <td>0.2</td>\n",
              "      <td>187</td>\n",
              "      <td>4</td>\n",
              "      <td>...</td>\n",
              "      <td>915</td>\n",
              "      <td>1965</td>\n",
              "      <td>2032</td>\n",
              "      <td>11</td>\n",
              "      <td>10</td>\n",
              "      <td>16</td>\n",
              "      <td>1</td>\n",
              "      <td>1</td>\n",
              "      <td>1</td>\n",
              "      <td>0</td>\n",
              "    </tr>\n",
              "    <tr>\n",
              "      <th>1997</th>\n",
              "      <td>1911</td>\n",
              "      <td>0</td>\n",
              "      <td>0.9</td>\n",
              "      <td>1</td>\n",
              "      <td>1</td>\n",
              "      <td>1</td>\n",
              "      <td>36</td>\n",
              "      <td>0.7</td>\n",
              "      <td>108</td>\n",
              "      <td>8</td>\n",
              "      <td>...</td>\n",
              "      <td>868</td>\n",
              "      <td>1632</td>\n",
              "      <td>3057</td>\n",
              "      <td>9</td>\n",
              "      <td>1</td>\n",
              "      <td>5</td>\n",
              "      <td>1</td>\n",
              "      <td>1</td>\n",
              "      <td>0</td>\n",
              "      <td>1</td>\n",
              "    </tr>\n",
              "    <tr>\n",
              "      <th>1998</th>\n",
              "      <td>1512</td>\n",
              "      <td>0</td>\n",
              "      <td>0.9</td>\n",
              "      <td>0</td>\n",
              "      <td>4</td>\n",
              "      <td>1</td>\n",
              "      <td>46</td>\n",
              "      <td>0.1</td>\n",
              "      <td>145</td>\n",
              "      <td>5</td>\n",
              "      <td>...</td>\n",
              "      <td>336</td>\n",
              "      <td>670</td>\n",
              "      <td>869</td>\n",
              "      <td>18</td>\n",
              "      <td>10</td>\n",
              "      <td>19</td>\n",
              "      <td>1</td>\n",
              "      <td>1</td>\n",
              "      <td>1</td>\n",
              "      <td>0</td>\n",
              "    </tr>\n",
              "    <tr>\n",
              "      <th>1999</th>\n",
              "      <td>510</td>\n",
              "      <td>1</td>\n",
              "      <td>2.0</td>\n",
              "      <td>1</td>\n",
              "      <td>5</td>\n",
              "      <td>1</td>\n",
              "      <td>45</td>\n",
              "      <td>0.9</td>\n",
              "      <td>168</td>\n",
              "      <td>6</td>\n",
              "      <td>...</td>\n",
              "      <td>483</td>\n",
              "      <td>754</td>\n",
              "      <td>3919</td>\n",
              "      <td>19</td>\n",
              "      <td>4</td>\n",
              "      <td>2</td>\n",
              "      <td>1</td>\n",
              "      <td>1</td>\n",
              "      <td>1</td>\n",
              "      <td>1</td>\n",
              "    </tr>\n",
              "  </tbody>\n",
              "</table>\n",
              "<p>2000 rows × 21 columns</p>\n",
              "</div>\n",
              "      <button class=\"colab-df-convert\" onclick=\"convertToInteractive('df-13c0d510-f202-4cda-b404-798a33c59842')\"\n",
              "              title=\"Convert this dataframe to an interactive table.\"\n",
              "              style=\"display:none;\">\n",
              "        \n",
              "  <svg xmlns=\"http://www.w3.org/2000/svg\" height=\"24px\"viewBox=\"0 0 24 24\"\n",
              "       width=\"24px\">\n",
              "    <path d=\"M0 0h24v24H0V0z\" fill=\"none\"/>\n",
              "    <path d=\"M18.56 5.44l.94 2.06.94-2.06 2.06-.94-2.06-.94-.94-2.06-.94 2.06-2.06.94zm-11 1L8.5 8.5l.94-2.06 2.06-.94-2.06-.94L8.5 2.5l-.94 2.06-2.06.94zm10 10l.94 2.06.94-2.06 2.06-.94-2.06-.94-.94-2.06-.94 2.06-2.06.94z\"/><path d=\"M17.41 7.96l-1.37-1.37c-.4-.4-.92-.59-1.43-.59-.52 0-1.04.2-1.43.59L10.3 9.45l-7.72 7.72c-.78.78-.78 2.05 0 2.83L4 21.41c.39.39.9.59 1.41.59.51 0 1.02-.2 1.41-.59l7.78-7.78 2.81-2.81c.8-.78.8-2.07 0-2.86zM5.41 20L4 18.59l7.72-7.72 1.47 1.35L5.41 20z\"/>\n",
              "  </svg>\n",
              "      </button>\n",
              "      \n",
              "  <style>\n",
              "    .colab-df-container {\n",
              "      display:flex;\n",
              "      flex-wrap:wrap;\n",
              "      gap: 12px;\n",
              "    }\n",
              "\n",
              "    .colab-df-convert {\n",
              "      background-color: #E8F0FE;\n",
              "      border: none;\n",
              "      border-radius: 50%;\n",
              "      cursor: pointer;\n",
              "      display: none;\n",
              "      fill: #1967D2;\n",
              "      height: 32px;\n",
              "      padding: 0 0 0 0;\n",
              "      width: 32px;\n",
              "    }\n",
              "\n",
              "    .colab-df-convert:hover {\n",
              "      background-color: #E2EBFA;\n",
              "      box-shadow: 0px 1px 2px rgba(60, 64, 67, 0.3), 0px 1px 3px 1px rgba(60, 64, 67, 0.15);\n",
              "      fill: #174EA6;\n",
              "    }\n",
              "\n",
              "    [theme=dark] .colab-df-convert {\n",
              "      background-color: #3B4455;\n",
              "      fill: #D2E3FC;\n",
              "    }\n",
              "\n",
              "    [theme=dark] .colab-df-convert:hover {\n",
              "      background-color: #434B5C;\n",
              "      box-shadow: 0px 1px 3px 1px rgba(0, 0, 0, 0.15);\n",
              "      filter: drop-shadow(0px 1px 2px rgba(0, 0, 0, 0.3));\n",
              "      fill: #FFFFFF;\n",
              "    }\n",
              "  </style>\n",
              "\n",
              "      <script>\n",
              "        const buttonEl =\n",
              "          document.querySelector('#df-13c0d510-f202-4cda-b404-798a33c59842 button.colab-df-convert');\n",
              "        buttonEl.style.display =\n",
              "          google.colab.kernel.accessAllowed ? 'block' : 'none';\n",
              "\n",
              "        async function convertToInteractive(key) {\n",
              "          const element = document.querySelector('#df-13c0d510-f202-4cda-b404-798a33c59842');\n",
              "          const dataTable =\n",
              "            await google.colab.kernel.invokeFunction('convertToInteractive',\n",
              "                                                     [key], {});\n",
              "          if (!dataTable) return;\n",
              "\n",
              "          const docLinkHtml = 'Like what you see? Visit the ' +\n",
              "            '<a target=\"_blank\" href=https://colab.research.google.com/notebooks/data_table.ipynb>data table notebook</a>'\n",
              "            + ' to learn more about interactive tables.';\n",
              "          element.innerHTML = '';\n",
              "          dataTable['output_type'] = 'display_data';\n",
              "          await google.colab.output.renderOutput(dataTable, element);\n",
              "          const docLink = document.createElement('div');\n",
              "          docLink.innerHTML = docLinkHtml;\n",
              "          element.appendChild(docLink);\n",
              "        }\n",
              "      </script>\n",
              "    </div>\n",
              "  </div>\n",
              "  "
            ]
          },
          "metadata": {},
          "execution_count": 6
        }
      ]
    },
    {
      "cell_type": "code",
      "source": [
        "dataset = df.values\n"
      ],
      "metadata": {
        "id": "6e7SxCAI9Im3"
      },
      "execution_count": 7,
      "outputs": []
    },
    {
      "cell_type": "code",
      "source": [
        "dataset"
      ],
      "metadata": {
        "colab": {
          "base_uri": "https://localhost:8080/"
        },
        "id": "YEl1aJ4l9Kww",
        "outputId": "7df40530-8894-4383-c671-9ade35f8af39"
      },
      "execution_count": 8,
      "outputs": [
        {
          "output_type": "execute_result",
          "data": {
            "text/plain": [
              "array([[8.420e+02, 0.000e+00, 2.200e+00, ..., 0.000e+00, 1.000e+00,\n",
              "        1.000e+00],\n",
              "       [1.021e+03, 1.000e+00, 5.000e-01, ..., 1.000e+00, 0.000e+00,\n",
              "        0.000e+00],\n",
              "       [5.630e+02, 1.000e+00, 5.000e-01, ..., 1.000e+00, 0.000e+00,\n",
              "        0.000e+00],\n",
              "       ...,\n",
              "       [1.911e+03, 0.000e+00, 9.000e-01, ..., 1.000e+00, 0.000e+00,\n",
              "        1.000e+00],\n",
              "       [1.512e+03, 0.000e+00, 9.000e-01, ..., 1.000e+00, 1.000e+00,\n",
              "        0.000e+00],\n",
              "       [5.100e+02, 1.000e+00, 2.000e+00, ..., 1.000e+00, 1.000e+00,\n",
              "        1.000e+00]])"
            ]
          },
          "metadata": {},
          "execution_count": 8
        }
      ]
    },
    {
      "cell_type": "code",
      "source": [
        "X = dataset[:,0:10]"
      ],
      "metadata": {
        "id": "Jx9mvgrf9Y6j"
      },
      "execution_count": 9,
      "outputs": []
    },
    {
      "cell_type": "code",
      "source": [
        "Y = dataset[:,10]"
      ],
      "metadata": {
        "id": "pwjaPv9c9aVB"
      },
      "execution_count": 10,
      "outputs": []
    },
    {
      "cell_type": "code",
      "source": [
        "from sklearn import preprocessing\n",
        "min_max_scaler = preprocessing.MinMaxScaler()\n",
        "X_scale = min_max_scaler.fit_transform(X)"
      ],
      "metadata": {
        "id": "xHoqkRpj9msw"
      },
      "execution_count": 11,
      "outputs": []
    },
    {
      "cell_type": "code",
      "source": [
        "X_scale"
      ],
      "metadata": {
        "colab": {
          "base_uri": "https://localhost:8080/"
        },
        "id": "PrTsVJc19y2v",
        "outputId": "6e209a32-13fc-45ef-ea4e-0998bb34ddb0"
      },
      "execution_count": 12,
      "outputs": [
        {
          "output_type": "execute_result",
          "data": {
            "text/plain": [
              "array([[0.22778891, 0.        , 0.68      , ..., 0.55555556, 0.9       ,\n",
              "        0.14285714],\n",
              "       [0.34736139, 1.        , 0.        , ..., 0.66666667, 0.46666667,\n",
              "        0.28571429],\n",
              "       [0.04141617, 1.        , 0.        , ..., 0.88888889, 0.54166667,\n",
              "        0.57142857],\n",
              "       ...,\n",
              "       [0.94188377, 0.        , 0.16      , ..., 0.66666667, 0.23333333,\n",
              "        1.        ],\n",
              "       [0.6753507 , 0.        , 0.16      , ..., 0.        , 0.54166667,\n",
              "        0.57142857],\n",
              "       [0.00601202, 1.        , 0.6       , ..., 0.88888889, 0.73333333,\n",
              "        0.71428571]])"
            ]
          },
          "metadata": {},
          "execution_count": 12
        }
      ]
    },
    {
      "cell_type": "code",
      "source": [
        "from sklearn.model_selection import train_test_split"
      ],
      "metadata": {
        "id": "NOk97-6P9y8I"
      },
      "execution_count": 13,
      "outputs": []
    },
    {
      "cell_type": "code",
      "source": [
        "X_train, X_val_and_test, Y_train, Y_val_and_test = train_test_split(X_scale, Y, test_size=0.25)"
      ],
      "metadata": {
        "id": "TSCsnyOK981P"
      },
      "execution_count": 15,
      "outputs": []
    },
    {
      "cell_type": "code",
      "source": [
        "X_val, X_test, Y_val, Y_test = train_test_split(X_val_and_test, Y_val_and_test, test_size=0.5)"
      ],
      "metadata": {
        "id": "8X9V7OI9-Rzp"
      },
      "execution_count": 16,
      "outputs": []
    },
    {
      "cell_type": "code",
      "source": [
        "(X_train.shape, X_val.shape, X_test.shape, Y_train.shape, Y_val.shape, Y_test.shape)"
      ],
      "metadata": {
        "colab": {
          "base_uri": "https://localhost:8080/"
        },
        "id": "_iv-1qWs-ULo",
        "outputId": "418c1c7a-5993-405c-a28d-38d990593321"
      },
      "execution_count": 38,
      "outputs": [
        {
          "output_type": "execute_result",
          "data": {
            "text/plain": [
              "((1500, 10), (250, 10), (250, 10), (1500,), (250,), (250,))"
            ]
          },
          "metadata": {},
          "execution_count": 38
        }
      ]
    },
    {
      "cell_type": "code",
      "source": [
        "from keras.models import Sequential\n",
        "from keras.layers import Dense"
      ],
      "metadata": {
        "id": "tjvW2spp-rDa"
      },
      "execution_count": 18,
      "outputs": []
    },
    {
      "cell_type": "code",
      "source": [
        "model = Sequential([\n",
        "    Dense(8, activation='relu', input_shape=(10,)),\n",
        "    Dense(4, activation='relu'),\n",
        "    Dense(1, activation='sigmoid'),\n",
        "])"
      ],
      "metadata": {
        "id": "23UfSQux-se4"
      },
      "execution_count": 19,
      "outputs": []
    },
    {
      "cell_type": "code",
      "source": [
        "model.compile(optimizer='sgd',\n",
        "              loss='binary_crossentropy',\n",
        "              metrics=['accuracy'])"
      ],
      "metadata": {
        "id": "b36-olB8_GEp"
      },
      "execution_count": 20,
      "outputs": []
    },
    {
      "cell_type": "code",
      "source": [
        "hist = model.fit(X_train, Y_train,\n",
        "          batch_size=32, epochs=100,\n",
        "          validation_data=(X_val, Y_val))"
      ],
      "metadata": {
        "id": "iP-R-e_G_QuC"
      },
      "execution_count": null,
      "outputs": []
    },
    {
      "cell_type": "code",
      "source": [
        "model.evaluate(X_test, Y_test)[1]"
      ],
      "metadata": {
        "colab": {
          "base_uri": "https://localhost:8080/"
        },
        "id": "oLVHa-Da_cN3",
        "outputId": "fa0473c8-017a-4389-af24-fd57080c0c06"
      },
      "execution_count": 22,
      "outputs": [
        {
          "output_type": "stream",
          "name": "stdout",
          "text": [
            "8/8 [==============================] - 0s 5ms/step - loss: nan - accuracy: 0.0400\n"
          ]
        },
        {
          "output_type": "execute_result",
          "data": {
            "text/plain": [
              "0.03999999910593033"
            ]
          },
          "metadata": {},
          "execution_count": 22
        }
      ]
    },
    {
      "cell_type": "code",
      "source": [
        "import matplotlib.pyplot as plt"
      ],
      "metadata": {
        "id": "MmC-oc1b_iuo"
      },
      "execution_count": 23,
      "outputs": []
    },
    {
      "cell_type": "code",
      "source": [
        "plt.plot(hist.history['loss'])\n",
        "plt.plot(hist.history['val_loss'])\n",
        "plt.title('Model loss')\n",
        "plt.ylabel('Loss')\n",
        "plt.xlabel('Epoch')\n",
        "plt.legend(['Train', 'Val'], loc='upper right')\n",
        "plt.show()"
      ],
      "metadata": {
        "colab": {
          "base_uri": "https://localhost:8080/",
          "height": 295
        },
        "id": "Lsyl8TfJ_j0p",
        "outputId": "3d8fcc44-8d6e-4db4-b6f4-f5acdc7fd16e"
      },
      "execution_count": 26,
      "outputs": [
        {
          "output_type": "display_data",
          "data": {
            "text/plain": [
              "<Figure size 432x288 with 1 Axes>"
            ],
            "image/png": "[encoded data removed]"
          },
          "metadata": {
            "needs_background": "light"
          }
        }
      ]
    },
    {
      "cell_type": "code",
      "source": [
        "model_2 = Sequential([\n",
        "    Dense(1000, activation='relu', input_shape=(10,)),\n",
        "    Dense(1000, activation='relu'),\n",
        "    Dense(1000, activation='relu'),\n",
        "    Dense(1000, activation='relu'),\n",
        "    Dense(1, activation='sigmoid'),\n",
        "])\n",
        "\n",
        "model_2.compile(optimizer='adam',\n",
        "              loss='binary_crossentropy',\n",
        "              metrics=['accuracy'])\n",
        "              \n",
        "hist_2 = model_2.fit(X_train, Y_train,\n",
        "          batch_size=32, epochs=100,\n",
        "          validation_data=(X_val, Y_val))"
      ],
      "metadata": {
        "colab": {
          "base_uri": "https://localhost:8080/"
        },
        "id": "V0X1JWBs_vfg",
        "outputId": "fda18db8-cc5b-4e41-e84b-25875f312e43"
      },
      "execution_count": 27,
      "outputs": [
        {
          "output_type": "stream",
          "name": "stdout",
          "text": [
            "Epoch 1/100\n",
            "47/47 [==============================] - 4s 60ms/step - loss: -711695.5625 - accuracy: 0.0507 - val_loss: -5285217.0000 - val_accuracy: 0.0760\n",
            "Epoch 2/100\n",
            "47/47 [==============================] - 3s 68ms/step - loss: -140521456.0000 - accuracy: 0.0500 - val_loss: -526848192.0000 - val_accuracy: 0.0760\n",
            "Epoch 3/100\n",
            "47/47 [==============================] - 3s 74ms/step - loss: -3223712256.0000 - accuracy: 0.0500 - val_loss: -8139820032.0000 - val_accuracy: 0.0760\n",
            "Epoch 4/100\n",
            "47/47 [==============================] - 4s 81ms/step - loss: -27018874880.0000 - accuracy: 0.0500 - val_loss: -53689643008.0000 - val_accuracy: 0.0760\n",
            "Epoch 5/100\n",
            "47/47 [==============================] - 3s 73ms/step - loss: -130335997952.0000 - accuracy: 0.0500 - val_loss: -220720693248.0000 - val_accuracy: 0.0760\n",
            "Epoch 6/100\n",
            "47/47 [==============================] - 4s 76ms/step - loss: -448551157760.0000 - accuracy: 0.0500 - val_loss: -675903635456.0000 - val_accuracy: 0.0760\n",
            "Epoch 7/100\n",
            "47/47 [==============================] - 3s 68ms/step - loss: -1221253791744.0000 - accuracy: 0.0500 - val_loss: -1700292722688.0000 - val_accuracy: 0.0760\n",
            "Epoch 8/100\n",
            "47/47 [==============================] - 3s 58ms/step - loss: -2824186888192.0000 - accuracy: 0.0500 - val_loss: -3695638740992.0000 - val_accuracy: 0.0760\n",
            "Epoch 9/100\n",
            "47/47 [==============================] - 3s 67ms/step - loss: -5800143093760.0000 - accuracy: 0.0500 - val_loss: -7235646259200.0000 - val_accuracy: 0.0760\n",
            "Epoch 10/100\n",
            "47/47 [==============================] - 2s 38ms/step - loss: -10815275008000.0000 - accuracy: 0.0500 - val_loss: -13095351091200.0000 - val_accuracy: 0.0760\n",
            "Epoch 11/100\n",
            "47/47 [==============================] - 2s 38ms/step - loss: -18839704174592.0000 - accuracy: 0.0500 - val_loss: -22099940868096.0000 - val_accuracy: 0.0760\n",
            "Epoch 12/100\n",
            "47/47 [==============================] - 2s 38ms/step - loss: -30930894848000.0000 - accuracy: 0.0500 - val_loss: -35441550032896.0000 - val_accuracy: 0.0760\n",
            "Epoch 13/100\n",
            "47/47 [==============================] - 2s 38ms/step - loss: -48433926766592.0000 - accuracy: 0.0500 - val_loss: -54328727437312.0000 - val_accuracy: 0.0760\n",
            "Epoch 14/100\n",
            "47/47 [==============================] - 2s 37ms/step - loss: -72780863242240.0000 - accuracy: 0.0500 - val_loss: -80290596782080.0000 - val_accuracy: 0.0760\n",
            "Epoch 15/100\n",
            "47/47 [==============================] - 2s 38ms/step - loss: -105772746801152.0000 - accuracy: 0.0500 - val_loss: -114939280752640.0000 - val_accuracy: 0.0760\n",
            "Epoch 16/100\n",
            "47/47 [==============================] - 2s 38ms/step - loss: -149456120971264.0000 - accuracy: 0.0500 - val_loss: -160367065956352.0000 - val_accuracy: 0.0760\n",
            "Epoch 17/100\n",
            "47/47 [==============================] - 2s 37ms/step - loss: -205624042323968.0000 - accuracy: 0.0500 - val_loss: -218775282515968.0000 - val_accuracy: 0.0760\n",
            "Epoch 18/100\n",
            "47/47 [==============================] - 2s 38ms/step - loss: -277160061304832.0000 - accuracy: 0.0500 - val_loss: -291552748371968.0000 - val_accuracy: 0.0760\n",
            "Epoch 19/100\n",
            "47/47 [==============================] - 2s 38ms/step - loss: -366674578505728.0000 - accuracy: 0.0500 - val_loss: -381214183653376.0000 - val_accuracy: 0.0760\n",
            "Epoch 20/100\n",
            "47/47 [==============================] - 2s 38ms/step - loss: -476236744753152.0000 - accuracy: 0.0500 - val_loss: -492976782442496.0000 - val_accuracy: 0.0760\n",
            "Epoch 21/100\n",
            "47/47 [==============================] - 2s 38ms/step - loss: -610332569501696.0000 - accuracy: 0.0500 - val_loss: -625164031098880.0000 - val_accuracy: 0.0760\n",
            "Epoch 22/100\n",
            "47/47 [==============================] - 2s 37ms/step - loss: -770263528505344.0000 - accuracy: 0.0500 - val_loss: -784989293641728.0000 - val_accuracy: 0.0760\n",
            "Epoch 23/100\n",
            "47/47 [==============================] - 2s 37ms/step - loss: -960706472050688.0000 - accuracy: 0.0500 - val_loss: -973936984588288.0000 - val_accuracy: 0.0760\n",
            "Epoch 24/100\n",
            "47/47 [==============================] - 2s 38ms/step - loss: -1184598553788416.0000 - accuracy: 0.0500 - val_loss: -1196175906570240.0000 - val_accuracy: 0.0760\n",
            "Epoch 25/100\n",
            "47/47 [==============================] - 2s 37ms/step - loss: -1446616523341824.0000 - accuracy: 0.0500 - val_loss: -1452997234130944.0000 - val_accuracy: 0.0760\n",
            "Epoch 26/100\n",
            "47/47 [==============================] - 2s 37ms/step - loss: -1750335135678464.0000 - accuracy: 0.0500 - val_loss: -1747805131505664.0000 - val_accuracy: 0.0760\n",
            "Epoch 27/100\n",
            "47/47 [==============================] - 2s 38ms/step - loss: -2098697382920192.0000 - accuracy: 0.0500 - val_loss: -2089747476381696.0000 - val_accuracy: 0.0760\n",
            "Epoch 28/100\n",
            "47/47 [==============================] - 2s 38ms/step - loss: -2498775465590784.0000 - accuracy: 0.0500 - val_loss: -2475989053472768.0000 - val_accuracy: 0.0760\n",
            "Epoch 29/100\n",
            "47/47 [==============================] - 2s 38ms/step - loss: -2950287123808256.0000 - accuracy: 0.0500 - val_loss: -2921174224863232.0000 - val_accuracy: 0.0760\n",
            "Epoch 30/100\n",
            "47/47 [==============================] - 2s 38ms/step - loss: -3465840502505472.0000 - accuracy: 0.0500 - val_loss: -3411966311792640.0000 - val_accuracy: 0.0760\n",
            "Epoch 31/100\n",
            "47/47 [==============================] - 2s 38ms/step - loss: -4040446728732672.0000 - accuracy: 0.0500 - val_loss: -3971398686998528.0000 - val_accuracy: 0.0760\n",
            "Epoch 32/100\n",
            "47/47 [==============================] - 2s 39ms/step - loss: -4687876809818112.0000 - accuracy: 0.0500 - val_loss: -4592102260342784.0000 - val_accuracy: 0.0760\n",
            "Epoch 33/100\n",
            "47/47 [==============================] - 2s 38ms/step - loss: -5407844325130240.0000 - accuracy: 0.0500 - val_loss: -5283613469835264.0000 - val_accuracy: 0.0760\n",
            "Epoch 34/100\n",
            "47/47 [==============================] - 2s 38ms/step - loss: -6206689451704320.0000 - accuracy: 0.0500 - val_loss: -6053240470765568.0000 - val_accuracy: 0.0760\n",
            "Epoch 35/100\n",
            "47/47 [==============================] - 2s 38ms/step - loss: -7090927654928384.0000 - accuracy: 0.0500 - val_loss: -6900766904156160.0000 - val_accuracy: 0.0760\n",
            "Epoch 36/100\n",
            "47/47 [==============================] - 2s 38ms/step - loss: -8067012123164672.0000 - accuracy: 0.0500 - val_loss: -7824245539209216.0000 - val_accuracy: 0.0760\n",
            "Epoch 37/100\n",
            "47/47 [==============================] - 2s 37ms/step - loss: -9133286609649664.0000 - accuracy: 0.0500 - val_loss: -8847897307119616.0000 - val_accuracy: 0.0760\n",
            "Epoch 38/100\n",
            "47/47 [==============================] - 2s 38ms/step - loss: -10303237848563712.0000 - accuracy: 0.0500 - val_loss: -9965280830685184.0000 - val_accuracy: 0.0760\n",
            "Epoch 39/100\n",
            "47/47 [==============================] - 2s 38ms/step - loss: -11583472036478976.0000 - accuracy: 0.0500 - val_loss: -11169680928538624.0000 - val_accuracy: 0.0760\n",
            "Epoch 40/100\n",
            "47/47 [==============================] - 2s 38ms/step - loss: -12967874213707776.0000 - accuracy: 0.0500 - val_loss: -12502590742855680.0000 - val_accuracy: 0.0760\n",
            "Epoch 41/100\n",
            "47/47 [==============================] - 2s 38ms/step - loss: -14480471501045760.0000 - accuracy: 0.0500 - val_loss: -13927434332143616.0000 - val_accuracy: 0.0760\n",
            "Epoch 42/100\n",
            "47/47 [==============================] - 2s 37ms/step - loss: -16112531156238336.0000 - accuracy: 0.0500 - val_loss: -15478588614639616.0000 - val_accuracy: 0.0760\n",
            "Epoch 43/100\n",
            "47/47 [==============================] - 2s 38ms/step - loss: -17880393382363136.0000 - accuracy: 0.0500 - val_loss: -17148667320336384.0000 - val_accuracy: 0.0760\n",
            "Epoch 44/100\n",
            "47/47 [==============================] - 2s 38ms/step - loss: -19781764666884096.0000 - accuracy: 0.0500 - val_loss: -18960261977210880.0000 - val_accuracy: 0.0760\n",
            "Epoch 45/100\n",
            "47/47 [==============================] - 2s 38ms/step - loss: -21836668147335168.0000 - accuracy: 0.0500 - val_loss: -20887037993287680.0000 - val_accuracy: 0.0760\n",
            "Epoch 46/100\n",
            "47/47 [==============================] - 2s 38ms/step - loss: -24033054292967424.0000 - accuracy: 0.0500 - val_loss: -22968883803586560.0000 - val_accuracy: 0.0760\n",
            "Epoch 47/100\n",
            "47/47 [==============================] - 2s 38ms/step - loss: -26391111597555712.0000 - accuracy: 0.0500 - val_loss: -25192474272071680.0000 - val_accuracy: 0.0760\n",
            "Epoch 48/100\n",
            "47/47 [==============================] - 2s 37ms/step - loss: -28915946777214976.0000 - accuracy: 0.0500 - val_loss: -27564546054946816.0000 - val_accuracy: 0.0760\n",
            "Epoch 49/100\n",
            "47/47 [==============================] - 2s 39ms/step - loss: -31609271376412672.0000 - accuracy: 0.0500 - val_loss: -30098331946450944.0000 - val_accuracy: 0.0760\n",
            "Epoch 50/100\n",
            "47/47 [==============================] - 2s 38ms/step - loss: -34478756206739456.0000 - accuracy: 0.0500 - val_loss: -32808155662516224.0000 - val_accuracy: 0.0760\n",
            "Epoch 51/100\n",
            "47/47 [==============================] - 2s 38ms/step - loss: -37543172422762496.0000 - accuracy: 0.0500 - val_loss: -35664010414129152.0000 - val_accuracy: 0.0760\n",
            "Epoch 52/100\n",
            "47/47 [==============================] - 2s 38ms/step - loss: -40801940203896832.0000 - accuracy: 0.0500 - val_loss: -38692355347316736.0000 - val_accuracy: 0.0760\n",
            "Epoch 53/100\n",
            "47/47 [==============================] - 2s 38ms/step - loss: -44243802440859648.0000 - accuracy: 0.0500 - val_loss: -41960043775524864.0000 - val_accuracy: 0.0760\n",
            "Epoch 54/100\n",
            "47/47 [==============================] - 2s 38ms/step - loss: -47912232792621056.0000 - accuracy: 0.0500 - val_loss: -45391129939542016.0000 - val_accuracy: 0.0760\n",
            "Epoch 55/100\n",
            "47/47 [==============================] - 2s 39ms/step - loss: -51790369217576960.0000 - accuracy: 0.0500 - val_loss: -49011546851901440.0000 - val_accuracy: 0.0760\n",
            "Epoch 56/100\n",
            "47/47 [==============================] - 2s 53ms/step - loss: -55869445687476224.0000 - accuracy: 0.0500 - val_loss: -52895734885777408.0000 - val_accuracy: 0.0760\n",
            "Epoch 57/100\n",
            "47/47 [==============================] - 2s 38ms/step - loss: -60211455760269312.0000 - accuracy: 0.0500 - val_loss: -56905679562080256.0000 - val_accuracy: 0.0760\n",
            "Epoch 58/100\n",
            "47/47 [==============================] - 2s 38ms/step - loss: -64767625787342848.0000 - accuracy: 0.0500 - val_loss: -61159359337463808.0000 - val_accuracy: 0.0760\n",
            "Epoch 59/100\n",
            "47/47 [==============================] - 2s 38ms/step - loss: -69553645284229120.0000 - accuracy: 0.0500 - val_loss: -65692302181400576.0000 - val_accuracy: 0.0760\n",
            "Epoch 60/100\n",
            "47/47 [==============================] - 2s 39ms/step - loss: -74621663743836160.0000 - accuracy: 0.0500 - val_loss: -70385992766324736.0000 - val_accuracy: 0.0760\n",
            "Epoch 61/100\n",
            "47/47 [==============================] - 2s 39ms/step - loss: -79929951263916032.0000 - accuracy: 0.0500 - val_loss: -75342264766824448.0000 - val_accuracy: 0.0760\n",
            "Epoch 62/100\n",
            "47/47 [==============================] - 2s 39ms/step - loss: -85521002250895360.0000 - accuracy: 0.0500 - val_loss: -80525946695712768.0000 - val_accuracy: 0.0760\n",
            "Epoch 63/100\n",
            "47/47 [==============================] - 2s 38ms/step - loss: -91372362615750656.0000 - accuracy: 0.0500 - val_loss: -86005251223584768.0000 - val_accuracy: 0.0760\n",
            "Epoch 64/100\n",
            "47/47 [==============================] - 2s 38ms/step - loss: -97519311219851264.0000 - accuracy: 0.0500 - val_loss: -91753334804840448.0000 - val_accuracy: 0.0760\n",
            "Epoch 65/100\n",
            "47/47 [==============================] - 2s 40ms/step - loss: -103963823748153344.0000 - accuracy: 0.0500 - val_loss: -97737031702020096.0000 - val_accuracy: 0.0760\n",
            "Epoch 66/100\n",
            "47/47 [==============================] - 2s 39ms/step - loss: -110693556464648192.0000 - accuracy: 0.0500 - val_loss: -104049817583353856.0000 - val_accuracy: 0.0760\n",
            "Epoch 67/100\n",
            "47/47 [==============================] - 3s 54ms/step - loss: -117757076859518976.0000 - accuracy: 0.0500 - val_loss: -110588046298054656.0000 - val_accuracy: 0.0760\n",
            "Epoch 68/100\n",
            "47/47 [==============================] - 2s 39ms/step - loss: -125110069460205568.0000 - accuracy: 0.0500 - val_loss: -117475713551958016.0000 - val_accuracy: 0.0760\n",
            "Epoch 69/100\n",
            "47/47 [==============================] - 2s 39ms/step - loss: -132794478917320704.0000 - accuracy: 0.0500 - val_loss: -124673906941362176.0000 - val_accuracy: 0.0760\n",
            "Epoch 70/100\n",
            "47/47 [==============================] - 2s 38ms/step - loss: -140841460923629568.0000 - accuracy: 0.0500 - val_loss: -132080938820567040.0000 - val_accuracy: 0.0760\n",
            "Epoch 71/100\n",
            "47/47 [==============================] - 2s 39ms/step - loss: -149201769384116224.0000 - accuracy: 0.0500 - val_loss: -139877472693911552.0000 - val_accuracy: 0.0760\n",
            "Epoch 72/100\n",
            "47/47 [==============================] - 2s 39ms/step - loss: -157943780178132992.0000 - accuracy: 0.0500 - val_loss: -147950026935500800.0000 - val_accuracy: 0.0760\n",
            "Epoch 73/100\n",
            "47/47 [==============================] - 2s 39ms/step - loss: -167016898590932992.0000 - accuracy: 0.0500 - val_loss: -156415029518794752.0000 - val_accuracy: 0.0760\n",
            "Epoch 74/100\n",
            "47/47 [==============================] - 2s 38ms/step - loss: -176475224030576640.0000 - accuracy: 0.0500 - val_loss: -165210985102049280.0000 - val_accuracy: 0.0760\n",
            "Epoch 75/100\n",
            "47/47 [==============================] - 2s 38ms/step - loss: -186306335451643904.0000 - accuracy: 0.0500 - val_loss: -174349747795001344.0000 - val_accuracy: 0.0760\n",
            "Epoch 76/100\n",
            "47/47 [==============================] - 2s 39ms/step - loss: -196537961162997760.0000 - accuracy: 0.0500 - val_loss: -183822332526067712.0000 - val_accuracy: 0.0760\n",
            "Epoch 77/100\n",
            "47/47 [==============================] - 2s 38ms/step - loss: -207139194579976192.0000 - accuracy: 0.0500 - val_loss: -193706323584483328.0000 - val_accuracy: 0.0760\n",
            "Epoch 78/100\n",
            "47/47 [==============================] - 2s 38ms/step - loss: -218176745134620672.0000 - accuracy: 0.0500 - val_loss: -203926919819821056.0000 - val_accuracy: 0.0760\n",
            "Epoch 79/100\n",
            "47/47 [==============================] - 2s 38ms/step - loss: -229617575938490368.0000 - accuracy: 0.0500 - val_loss: -214514512420667392.0000 - val_accuracy: 0.0760\n",
            "Epoch 80/100\n",
            "47/47 [==============================] - 2s 38ms/step - loss: -241461635451977728.0000 - accuracy: 0.0500 - val_loss: -225572232141733888.0000 - val_accuracy: 0.0760\n",
            "Epoch 81/100\n",
            "47/47 [==============================] - 2s 38ms/step - loss: -253802450882920448.0000 - accuracy: 0.0500 - val_loss: -236833825370406912.0000 - val_accuracy: 0.0760\n",
            "Epoch 82/100\n",
            "47/47 [==============================] - 2s 38ms/step - loss: -266503596890128384.0000 - accuracy: 0.0500 - val_loss: -248720044282871808.0000 - val_accuracy: 0.0760\n",
            "Epoch 83/100\n",
            "47/47 [==============================] - 2s 37ms/step - loss: -279672361756655616.0000 - accuracy: 0.0500 - val_loss: -261053764427841536.0000 - val_accuracy: 0.0760\n",
            "Epoch 84/100\n",
            "47/47 [==============================] - 2s 38ms/step - loss: -293357605030461440.0000 - accuracy: 0.0500 - val_loss: -273614293205778432.0000 - val_accuracy: 0.0760\n",
            "Epoch 85/100\n",
            "47/47 [==============================] - 2s 38ms/step - loss: -307459700650147840.0000 - accuracy: 0.0500 - val_loss: -286646168874647552.0000 - val_accuracy: 0.0760\n",
            "Epoch 86/100\n",
            "47/47 [==============================] - 2s 53ms/step - loss: -322039602791579648.0000 - accuracy: 0.0500 - val_loss: -300177188462788608.0000 - val_accuracy: 0.0760\n",
            "Epoch 87/100\n",
            "47/47 [==============================] - 2s 39ms/step - loss: -337127685463474176.0000 - accuracy: 0.0500 - val_loss: -314136862966939648.0000 - val_accuracy: 0.0760\n",
            "Epoch 88/100\n",
            "47/47 [==============================] - 2s 38ms/step - loss: -352732091923824640.0000 - accuracy: 0.0500 - val_loss: -328547199799525376.0000 - val_accuracy: 0.0760\n",
            "Epoch 89/100\n",
            "47/47 [==============================] - 2s 38ms/step - loss: -368841414739492864.0000 - accuracy: 0.0500 - val_loss: -343442971015774208.0000 - val_accuracy: 0.0760\n",
            "Epoch 90/100\n",
            "47/47 [==============================] - 2s 38ms/step - loss: -385472077865418752.0000 - accuracy: 0.0500 - val_loss: -358847300719607808.0000 - val_accuracy: 0.0760\n",
            "Epoch 91/100\n",
            "47/47 [==============================] - 2s 38ms/step - loss: -402621435601747968.0000 - accuracy: 0.0500 - val_loss: -374799255933550592.0000 - val_accuracy: 0.0760\n",
            "Epoch 92/100\n",
            "47/47 [==============================] - 2s 39ms/step - loss: -420351507276234752.0000 - accuracy: 0.0500 - val_loss: -391125251259367424.0000 - val_accuracy: 0.0760\n",
            "Epoch 93/100\n",
            "47/47 [==============================] - 2s 38ms/step - loss: -438566291779878912.0000 - accuracy: 0.0500 - val_loss: -408150845218095104.0000 - val_accuracy: 0.0760\n",
            "Epoch 94/100\n",
            "47/47 [==============================] - 2s 39ms/step - loss: -457452328132280320.0000 - accuracy: 0.0500 - val_loss: -425363527952236544.0000 - val_accuracy: 0.0760\n",
            "Epoch 95/100\n",
            "47/47 [==============================] - 2s 39ms/step - loss: -476740064185942016.0000 - accuracy: 0.0500 - val_loss: -443485506802548736.0000 - val_accuracy: 0.0760\n",
            "Epoch 96/100\n",
            "47/47 [==============================] - 2s 39ms/step - loss: -496789212041838592.0000 - accuracy: 0.0500 - val_loss: -461770282093248512.0000 - val_accuracy: 0.0760\n",
            "Epoch 97/100\n",
            "47/47 [==============================] - 2s 39ms/step - loss: -517302697402040320.0000 - accuracy: 0.0500 - val_loss: -480819905160019968.0000 - val_accuracy: 0.0760\n",
            "Epoch 98/100\n",
            "47/47 [==============================] - 2s 39ms/step - loss: -538493378845736960.0000 - accuracy: 0.0500 - val_loss: -500346475755077632.0000 - val_accuracy: 0.0760\n",
            "Epoch 99/100\n",
            "47/47 [==============================] - 2s 40ms/step - loss: -560241169087332352.0000 - accuracy: 0.0500 - val_loss: -520615800814436352.0000 - val_accuracy: 0.0760\n",
            "Epoch 100/100\n",
            "47/47 [==============================] - 2s 41ms/step - loss: -582683300921868288.0000 - accuracy: 0.0500 - val_loss: -541270917016190976.0000 - val_accuracy: 0.0760\n"
          ]
        }
      ]
    },
    {
      "cell_type": "code",
      "source": [
        "plt.plot(hist_2.history['loss'])\n",
        "plt.plot(hist_2.history['val_loss'])\n",
        "plt.title('Model loss')\n",
        "plt.ylabel('Loss')\n",
        "plt.xlabel('Epoch')\n",
        "plt.legend(['Train', 'Val'], loc='upper right')\n",
        "plt.show()"
      ],
      "metadata": {
        "colab": {
          "base_uri": "https://localhost:8080/",
          "height": 295
        },
        "id": "Zunp4eg5__W3",
        "outputId": "5faf4eaf-9ea7-454b-e650-c539c605228a"
      },
      "execution_count": 28,
      "outputs": [
        {
          "output_type": "display_data",
          "data": {
            "text/plain": [
              "<Figure size 432x288 with 1 Axes>"
            ],
            "image/png": "[encoded data removed]"
          },
          "metadata": {
            "needs_background": "light"
          }
        }
      ]
    },
    {
      "cell_type": "code",
      "source": [
        "plt.plot(hist.history['accuracy'])\n",
        "plt.plot(hist.history['val_accuracy'])\n",
        "plt.title('Model accuracy')\n",
        "plt.ylabel('Accuracy')\n",
        "plt.xlabel('Epoch')\n",
        "plt.legend(['Train', 'Val'], loc='lower right')\n",
        "plt.show()"
      ],
      "metadata": {
        "colab": {
          "base_uri": "https://localhost:8080/",
          "height": 295
        },
        "id": "gp95-OO3EJKN",
        "outputId": "00eee3b8-41b7-4c09-c056-c45a4b6da53f"
      },
      "execution_count": 37,
      "outputs": [
        {
          "output_type": "display_data",
          "data": {
            "text/plain": [
              "<Figure size 432x288 with 1 Axes>"
            ],
            "image/png": "[encoded data removed]"
          },
          "metadata": {
            "needs_background": "light"
          }
        }
      ]
    },
    {
      "cell_type": "code",
      "source": [
        "from keras.layers import Dropout\n",
        "from keras import regularizers"
      ],
      "metadata": {
        "id": "y0Hx7nSSBDtf"
      },
      "execution_count": 30,
      "outputs": []
    },
    {
      "cell_type": "code",
      "source": [
        "model_3 = Sequential([\n",
        "    Dense(1000, activation='relu', kernel_regularizer=regularizers.l2(0.01), input_shape=(10,)),\n",
        "    Dropout(0.3),\n",
        "    Dense(1000, activation='relu', kernel_regularizer=regularizers.l2(0.01)),\n",
        "    Dropout(0.3),\n",
        "    Dense(1000, activation='relu', kernel_regularizer=regularizers.l2(0.01)),\n",
        "    Dropout(0.3),\n",
        "    Dense(1000, activation='relu', kernel_regularizer=regularizers.l2(0.01)),\n",
        "    Dropout(0.3),\n",
        "    Dense(1, activation='sigmoid', kernel_regularizer=regularizers.l2(0.01)),\n",
        "])"
      ],
      "metadata": {
        "id": "eKaDe9GxBOWg"
      },
      "execution_count": 31,
      "outputs": []
    },
    {
      "cell_type": "code",
      "source": [
        "model_3.compile(optimizer='adam',\n",
        "              loss='binary_crossentropy',\n",
        "              metrics=['accuracy'])\n",
        "              \n",
        "hist_3 = model_3.fit(X_train, Y_train,\n",
        "          batch_size=32, epochs=100,\n",
        "          validation_data=(X_val, Y_val))"
      ],
      "metadata": {
        "colab": {
          "base_uri": "https://localhost:8080/"
        },
        "id": "avXVvL4dBS7P",
        "outputId": "2e5d9c03-1027-47c1-d938-a43208f6c8ed"
      },
      "execution_count": 32,
      "outputs": [
        {
          "output_type": "stream",
          "name": "stdout",
          "text": [
            "Epoch 1/100\n",
            "47/47 [==============================] - 4s 59ms/step - loss: -1198774.5000 - accuracy: 0.0473 - val_loss: -8874651.0000 - val_accuracy: 0.0760\n",
            "Epoch 2/100\n",
            "47/47 [==============================] - 2s 50ms/step - loss: -269553440.0000 - accuracy: 0.0500 - val_loss: -1000107520.0000 - val_accuracy: 0.0760\n",
            "Epoch 3/100\n",
            "47/47 [==============================] - 2s 50ms/step - loss: -6442571264.0000 - accuracy: 0.0500 - val_loss: -16564267008.0000 - val_accuracy: 0.0760\n",
            "Epoch 4/100\n",
            "47/47 [==============================] - 4s 77ms/step - loss: -57443553280.0000 - accuracy: 0.0500 - val_loss: -115031318528.0000 - val_accuracy: 0.0760\n",
            "Epoch 5/100\n",
            "47/47 [==============================] - 3s 53ms/step - loss: -288115916800.0000 - accuracy: 0.0500 - val_loss: -487339753472.0000 - val_accuracy: 0.0760\n",
            "Epoch 6/100\n",
            "47/47 [==============================] - 2s 49ms/step - loss: -1006975909888.0000 - accuracy: 0.0500 - val_loss: -1532296167424.0000 - val_accuracy: 0.0760\n",
            "Epoch 7/100\n",
            "47/47 [==============================] - 2s 50ms/step - loss: -2791669760000.0000 - accuracy: 0.0500 - val_loss: -3915864080384.0000 - val_accuracy: 0.0760\n",
            "Epoch 8/100\n",
            "47/47 [==============================] - 2s 51ms/step - loss: -6516582121472.0000 - accuracy: 0.0500 - val_loss: -8632960286720.0000 - val_accuracy: 0.0760\n",
            "Epoch 9/100\n",
            "47/47 [==============================] - 3s 60ms/step - loss: -13606863241216.0000 - accuracy: 0.0500 - val_loss: -17056940425216.0000 - val_accuracy: 0.0760\n",
            "Epoch 10/100\n",
            "47/47 [==============================] - 3s 72ms/step - loss: -25758711939072.0000 - accuracy: 0.0500 - val_loss: -31146427547648.0000 - val_accuracy: 0.0760\n",
            "Epoch 11/100\n",
            "47/47 [==============================] - 2s 51ms/step - loss: -45067905531904.0000 - accuracy: 0.0500 - val_loss: -53091659415552.0000 - val_accuracy: 0.0760\n",
            "Epoch 12/100\n",
            "47/47 [==============================] - 3s 54ms/step - loss: -74322706169856.0000 - accuracy: 0.0500 - val_loss: -85190290440192.0000 - val_accuracy: 0.0760\n",
            "Epoch 13/100\n",
            "47/47 [==============================] - 2s 51ms/step - loss: -117248773586944.0000 - accuracy: 0.0500 - val_loss: -131613501423616.0000 - val_accuracy: 0.0760\n",
            "Epoch 14/100\n",
            "47/47 [==============================] - 2s 50ms/step - loss: -176705171881984.0000 - accuracy: 0.0500 - val_loss: -194805858566144.0000 - val_accuracy: 0.0760\n",
            "Epoch 15/100\n",
            "47/47 [==============================] - 2s 53ms/step - loss: -257956222337024.0000 - accuracy: 0.0500 - val_loss: -280208464674816.0000 - val_accuracy: 0.0760\n",
            "Epoch 16/100\n",
            "47/47 [==============================] - 3s 66ms/step - loss: -365115270496256.0000 - accuracy: 0.0500 - val_loss: -392511289819136.0000 - val_accuracy: 0.0760\n",
            "Epoch 17/100\n",
            "47/47 [==============================] - 2s 51ms/step - loss: -504414615896064.0000 - accuracy: 0.0500 - val_loss: -536124795650048.0000 - val_accuracy: 0.0760\n",
            "Epoch 18/100\n",
            "47/47 [==============================] - 2s 52ms/step - loss: -680738357772288.0000 - accuracy: 0.0500 - val_loss: -715103800393728.0000 - val_accuracy: 0.0760\n",
            "Epoch 19/100\n",
            "47/47 [==============================] - 3s 57ms/step - loss: -901120243269632.0000 - accuracy: 0.0500 - val_loss: -938898842714112.0000 - val_accuracy: 0.0760\n",
            "Epoch 20/100\n",
            "47/47 [==============================] - 3s 54ms/step - loss: -1171817402204160.0000 - accuracy: 0.0500 - val_loss: -1212136541913088.0000 - val_accuracy: 0.0760\n",
            "Epoch 21/100\n",
            "47/47 [==============================] - 2s 53ms/step - loss: -1507254616457216.0000 - accuracy: 0.0500 - val_loss: -1542786075590656.0000 - val_accuracy: 0.0760\n",
            "Epoch 22/100\n",
            "47/47 [==============================] - 3s 53ms/step - loss: -1901254112444416.0000 - accuracy: 0.0500 - val_loss: -1940863374589952.0000 - val_accuracy: 0.0760\n",
            "Epoch 23/100\n",
            "47/47 [==============================] - 2s 52ms/step - loss: -2380925052649472.0000 - accuracy: 0.0500 - val_loss: -2403255392927744.0000 - val_accuracy: 0.0760\n",
            "Epoch 24/100\n",
            "47/47 [==============================] - 2s 52ms/step - loss: -2926677420146688.0000 - accuracy: 0.0500 - val_loss: -2960453579833344.0000 - val_accuracy: 0.0760\n",
            "Epoch 25/100\n",
            "47/47 [==============================] - 2s 53ms/step - loss: -3575612618833920.0000 - accuracy: 0.0500 - val_loss: -3594940776972288.0000 - val_accuracy: 0.0760\n",
            "Epoch 26/100\n",
            "47/47 [==============================] - 2s 51ms/step - loss: -4338340560109568.0000 - accuracy: 0.0500 - val_loss: -4336573181067264.0000 - val_accuracy: 0.0760\n",
            "Epoch 27/100\n",
            "47/47 [==============================] - 2s 52ms/step - loss: -5211148781617152.0000 - accuracy: 0.0500 - val_loss: -5178625141768192.0000 - val_accuracy: 0.0760\n",
            "Epoch 28/100\n",
            "47/47 [==============================] - 2s 50ms/step - loss: -6182842182664192.0000 - accuracy: 0.0500 - val_loss: -6149916963373056.0000 - val_accuracy: 0.0760\n",
            "Epoch 29/100\n",
            "47/47 [==============================] - 3s 53ms/step - loss: -7350867665616896.0000 - accuracy: 0.0500 - val_loss: -7250216180776960.0000 - val_accuracy: 0.0760\n",
            "Epoch 30/100\n",
            "47/47 [==============================] - 2s 52ms/step - loss: -8630954214031360.0000 - accuracy: 0.0500 - val_loss: -8492275088752640.0000 - val_accuracy: 0.0760\n",
            "Epoch 31/100\n",
            "47/47 [==============================] - 3s 53ms/step - loss: -10064709323587584.0000 - accuracy: 0.0500 - val_loss: -9884095211372544.0000 - val_accuracy: 0.0760\n",
            "Epoch 32/100\n",
            "47/47 [==============================] - 3s 54ms/step - loss: -11633227085119488.0000 - accuracy: 0.0500 - val_loss: -11423393236647936.0000 - val_accuracy: 0.0760\n",
            "Epoch 33/100\n",
            "47/47 [==============================] - 3s 54ms/step - loss: -13453134651195392.0000 - accuracy: 0.0500 - val_loss: -13163705395052544.0000 - val_accuracy: 0.0760\n",
            "Epoch 34/100\n",
            "47/47 [==============================] - 2s 52ms/step - loss: -15493921647886336.0000 - accuracy: 0.0500 - val_loss: -15078485567471616.0000 - val_accuracy: 0.0760\n",
            "Epoch 35/100\n",
            "47/47 [==============================] - 3s 57ms/step - loss: -17643084628099072.0000 - accuracy: 0.0500 - val_loss: -17200335776907264.0000 - val_accuracy: 0.0760\n",
            "Epoch 36/100\n",
            "47/47 [==============================] - 3s 54ms/step - loss: -20079648566149120.0000 - accuracy: 0.0500 - val_loss: -19504546002763776.0000 - val_accuracy: 0.0760\n",
            "Epoch 37/100\n",
            "47/47 [==============================] - 3s 54ms/step - loss: -22716814320467968.0000 - accuracy: 0.0500 - val_loss: -22075176271216640.0000 - val_accuracy: 0.0760\n",
            "Epoch 38/100\n",
            "47/47 [==============================] - 3s 54ms/step - loss: -25729738173579264.0000 - accuracy: 0.0500 - val_loss: -24868096867041280.0000 - val_accuracy: 0.0760\n",
            "Epoch 39/100\n",
            "47/47 [==============================] - 3s 54ms/step - loss: -28870798080999424.0000 - accuracy: 0.0500 - val_loss: -27898565661556736.0000 - val_accuracy: 0.0760\n",
            "Epoch 40/100\n",
            "47/47 [==============================] - 3s 55ms/step - loss: -32402738667061248.0000 - accuracy: 0.0500 - val_loss: -31216911081537536.0000 - val_accuracy: 0.0760\n",
            "Epoch 41/100\n",
            "47/47 [==============================] - 3s 55ms/step - loss: -36179984162750464.0000 - accuracy: 0.0500 - val_loss: -34817472360087552.0000 - val_accuracy: 0.0760\n",
            "Epoch 42/100\n",
            "47/47 [==============================] - 3s 55ms/step - loss: -40335111618560000.0000 - accuracy: 0.0500 - val_loss: -38726783805161472.0000 - val_accuracy: 0.0760\n",
            "Epoch 43/100\n",
            "47/47 [==============================] - 3s 55ms/step - loss: -44721127926267904.0000 - accuracy: 0.0500 - val_loss: -42922180874338304.0000 - val_accuracy: 0.0760\n",
            "Epoch 44/100\n",
            "47/47 [==============================] - 3s 54ms/step - loss: -49453271353393152.0000 - accuracy: 0.0500 - val_loss: -47424272968187904.0000 - val_accuracy: 0.0760\n",
            "Epoch 45/100\n",
            "47/47 [==============================] - 3s 54ms/step - loss: -54768684224217088.0000 - accuracy: 0.0500 - val_loss: -52326522870038528.0000 - val_accuracy: 0.0760\n",
            "Epoch 46/100\n",
            "47/47 [==============================] - 3s 54ms/step - loss: -60157605460312064.0000 - accuracy: 0.0500 - val_loss: -57559657052372992.0000 - val_accuracy: 0.0760\n",
            "Epoch 47/100\n",
            "47/47 [==============================] - 3s 55ms/step - loss: -66190595697147904.0000 - accuracy: 0.0500 - val_loss: -63134271199510528.0000 - val_accuracy: 0.0760\n",
            "Epoch 48/100\n",
            "47/47 [==============================] - 3s 55ms/step - loss: -72596303195930624.0000 - accuracy: 0.0500 - val_loss: -69112169890840576.0000 - val_accuracy: 0.0760\n",
            "Epoch 49/100\n",
            "47/47 [==============================] - 3s 58ms/step - loss: -79194962100486144.0000 - accuracy: 0.0500 - val_loss: -75509467843657728.0000 - val_accuracy: 0.0760\n",
            "Epoch 50/100\n",
            "47/47 [==============================] - 3s 55ms/step - loss: -86674716365946880.0000 - accuracy: 0.0500 - val_loss: -82373993813770240.0000 - val_accuracy: 0.0760\n",
            "Epoch 51/100\n",
            "47/47 [==============================] - 3s 55ms/step - loss: -94201826940813312.0000 - accuracy: 0.0500 - val_loss: -89669932068896768.0000 - val_accuracy: 0.0760\n",
            "Epoch 52/100\n",
            "47/47 [==============================] - 3s 56ms/step - loss: -102684361580609536.0000 - accuracy: 0.0500 - val_loss: -97321691184627712.0000 - val_accuracy: 0.0760\n",
            "Epoch 53/100\n",
            "47/47 [==============================] - 3s 54ms/step - loss: -111529262611169280.0000 - accuracy: 0.0500 - val_loss: -105526624908214272.0000 - val_accuracy: 0.0760\n",
            "Epoch 54/100\n",
            "47/47 [==============================] - 2s 51ms/step - loss: -120802835737608192.0000 - accuracy: 0.0500 - val_loss: -114279175551975424.0000 - val_accuracy: 0.0760\n",
            "Epoch 55/100\n",
            "47/47 [==============================] - 2s 52ms/step - loss: -130475394145976320.0000 - accuracy: 0.0500 - val_loss: -123453749682241536.0000 - val_accuracy: 0.0760\n",
            "Epoch 56/100\n",
            "47/47 [==============================] - 2s 51ms/step - loss: -140811808469417984.0000 - accuracy: 0.0500 - val_loss: -133140429943078912.0000 - val_accuracy: 0.0760\n",
            "Epoch 57/100\n",
            "47/47 [==============================] - 2s 53ms/step - loss: -151551563171627008.0000 - accuracy: 0.0500 - val_loss: -143455850466377728.0000 - val_accuracy: 0.0760\n",
            "Epoch 58/100\n",
            "47/47 [==============================] - 3s 54ms/step - loss: -162906528989315072.0000 - accuracy: 0.0500 - val_loss: -154210147927851008.0000 - val_accuracy: 0.0760\n",
            "Epoch 59/100\n",
            "47/47 [==============================] - 3s 53ms/step - loss: -175213328279273472.0000 - accuracy: 0.0500 - val_loss: -165668931695017984.0000 - val_accuracy: 0.0760\n",
            "Epoch 60/100\n",
            "47/47 [==============================] - 2s 51ms/step - loss: -188388844834390016.0000 - accuracy: 0.0500 - val_loss: -177533452432703488.0000 - val_accuracy: 0.0760\n",
            "Epoch 61/100\n",
            "47/47 [==============================] - 2s 52ms/step - loss: -201712658020302848.0000 - accuracy: 0.0500 - val_loss: -190337265338155008.0000 - val_accuracy: 0.0760\n",
            "Epoch 62/100\n",
            "47/47 [==============================] - 2s 53ms/step - loss: -215632251889647616.0000 - accuracy: 0.0500 - val_loss: -203554271277350912.0000 - val_accuracy: 0.0760\n",
            "Epoch 63/100\n",
            "47/47 [==============================] - 2s 52ms/step - loss: -231016927823134720.0000 - accuracy: 0.0500 - val_loss: -217448043803312128.0000 - val_accuracy: 0.0760\n",
            "Epoch 64/100\n",
            "47/47 [==============================] - 2s 52ms/step - loss: -246792617579249664.0000 - accuracy: 0.0500 - val_loss: -232062975698010112.0000 - val_accuracy: 0.0760\n",
            "Epoch 65/100\n",
            "47/47 [==============================] - 2s 52ms/step - loss: -262784000592969728.0000 - accuracy: 0.0500 - val_loss: -247289115798667264.0000 - val_accuracy: 0.0760\n",
            "Epoch 66/100\n",
            "47/47 [==============================] - 2s 53ms/step - loss: -279952032847101952.0000 - accuracy: 0.0500 - val_loss: -263374386797477888.0000 - val_accuracy: 0.0760\n",
            "Epoch 67/100\n",
            "47/47 [==============================] - 3s 57ms/step - loss: -298348803705012224.0000 - accuracy: 0.0500 - val_loss: -280262730781294592.0000 - val_accuracy: 0.0760\n",
            "Epoch 68/100\n",
            "47/47 [==============================] - 2s 53ms/step - loss: -317184022004367360.0000 - accuracy: 0.0500 - val_loss: -297681606305382400.0000 - val_accuracy: 0.0760\n",
            "Epoch 69/100\n",
            "47/47 [==============================] - 2s 53ms/step - loss: -336602531222257664.0000 - accuracy: 0.0500 - val_loss: -315966725193465856.0000 - val_accuracy: 0.0760\n",
            "Epoch 70/100\n",
            "47/47 [==============================] - 3s 54ms/step - loss: -356386799855075328.0000 - accuracy: 0.0500 - val_loss: -335166981353242624.0000 - val_accuracy: 0.0760\n",
            "Epoch 71/100\n",
            "47/47 [==============================] - 3s 54ms/step - loss: -377704062574919680.0000 - accuracy: 0.0500 - val_loss: -354813295636512768.0000 - val_accuracy: 0.0760\n",
            "Epoch 72/100\n",
            "47/47 [==============================] - 2s 52ms/step - loss: -401939119917236224.0000 - accuracy: 0.0500 - val_loss: -375708380251029504.0000 - val_accuracy: 0.0760\n",
            "Epoch 73/100\n",
            "47/47 [==============================] - 2s 53ms/step - loss: -424747251684868096.0000 - accuracy: 0.0500 - val_loss: -397465516341460992.0000 - val_accuracy: 0.0760\n",
            "Epoch 74/100\n",
            "47/47 [==============================] - 2s 53ms/step - loss: -448174889535275008.0000 - accuracy: 0.0500 - val_loss: -420055463770456064.0000 - val_accuracy: 0.0760\n",
            "Epoch 75/100\n",
            "47/47 [==============================] - 3s 53ms/step - loss: -473651501663780864.0000 - accuracy: 0.0500 - val_loss: -443676993624473600.0000 - val_accuracy: 0.0760\n",
            "Epoch 76/100\n",
            "47/47 [==============================] - 3s 54ms/step - loss: -500772777029009408.0000 - accuracy: 0.0500 - val_loss: -468048940164448256.0000 - val_accuracy: 0.0760\n",
            "Epoch 77/100\n",
            "47/47 [==============================] - 2s 52ms/step - loss: -527658997424062464.0000 - accuracy: 0.0500 - val_loss: -493318706667978752.0000 - val_accuracy: 0.0760\n",
            "Epoch 78/100\n",
            "47/47 [==============================] - 2s 52ms/step - loss: -557768229997510656.0000 - accuracy: 0.0500 - val_loss: -519640018604523520.0000 - val_accuracy: 0.0760\n",
            "Epoch 79/100\n",
            "47/47 [==============================] - 2s 52ms/step - loss: -585566564007280640.0000 - accuracy: 0.0500 - val_loss: -547226353028562944.0000 - val_accuracy: 0.0760\n",
            "Epoch 80/100\n",
            "47/47 [==============================] - 2s 51ms/step - loss: -616491634208538624.0000 - accuracy: 0.0500 - val_loss: -575327946089168896.0000 - val_accuracy: 0.0760\n",
            "Epoch 81/100\n",
            "47/47 [==============================] - 2s 51ms/step - loss: -648287036582658048.0000 - accuracy: 0.0500 - val_loss: -605076229611061248.0000 - val_accuracy: 0.0760\n",
            "Epoch 82/100\n",
            "47/47 [==============================] - 2s 51ms/step - loss: -682816237180289024.0000 - accuracy: 0.0500 - val_loss: -635576957043474432.0000 - val_accuracy: 0.0760\n",
            "Epoch 83/100\n",
            "47/47 [==============================] - 2s 52ms/step - loss: -714440940374196224.0000 - accuracy: 0.0500 - val_loss: -667060441712689152.0000 - val_accuracy: 0.0760\n",
            "Epoch 84/100\n",
            "47/47 [==============================] - 2s 51ms/step - loss: -750306803513819136.0000 - accuracy: 0.0500 - val_loss: -699757649780015104.0000 - val_accuracy: 0.0760\n",
            "Epoch 85/100\n",
            "47/47 [==============================] - 2s 51ms/step - loss: -787285853457088512.0000 - accuracy: 0.0500 - val_loss: -733795093802123264.0000 - val_accuracy: 0.0760\n",
            "Epoch 86/100\n",
            "47/47 [==============================] - 2s 52ms/step - loss: -825181140183678976.0000 - accuracy: 0.0500 - val_loss: -768814401707835392.0000 - val_accuracy: 0.0760\n",
            "Epoch 87/100\n",
            "47/47 [==============================] - 3s 54ms/step - loss: -862706097650139136.0000 - accuracy: 0.0500 - val_loss: -804932602766032896.0000 - val_accuracy: 0.0760\n",
            "Epoch 88/100\n",
            "47/47 [==============================] - 2s 52ms/step - loss: -904945554818072576.0000 - accuracy: 0.0500 - val_loss: -842542841103122432.0000 - val_accuracy: 0.0760\n",
            "Epoch 89/100\n",
            "47/47 [==============================] - 2s 52ms/step - loss: -945292271438266368.0000 - accuracy: 0.0500 - val_loss: -881114671078178816.0000 - val_accuracy: 0.0760\n",
            "Epoch 90/100\n",
            "47/47 [==============================] - 3s 54ms/step - loss: -991061916845604864.0000 - accuracy: 0.0500 - val_loss: -921158334805966848.0000 - val_accuracy: 0.0760\n",
            "Epoch 91/100\n",
            "47/47 [==============================] - 3s 55ms/step - loss: -1034172943136980992.0000 - accuracy: 0.0500 - val_loss: -962649436872245248.0000 - val_accuracy: 0.0760\n",
            "Epoch 92/100\n",
            "47/47 [==============================] - 3s 56ms/step - loss: -1081229910502014976.0000 - accuracy: 0.0500 - val_loss: -1005344435451461632.0000 - val_accuracy: 0.0760\n",
            "Epoch 93/100\n",
            "47/47 [==============================] - 3s 55ms/step - loss: -1123905186591408128.0000 - accuracy: 0.0500 - val_loss: -1048769441032044544.0000 - val_accuracy: 0.0760\n",
            "Epoch 94/100\n",
            "47/47 [==============================] - 3s 57ms/step - loss: -1176278430115692544.0000 - accuracy: 0.0500 - val_loss: -1094474971167588352.0000 - val_accuracy: 0.0760\n",
            "Epoch 95/100\n",
            "47/47 [==============================] - 3s 56ms/step - loss: -1224902957464551424.0000 - accuracy: 0.0500 - val_loss: -1140983282230362112.0000 - val_accuracy: 0.0760\n",
            "Epoch 96/100\n",
            "47/47 [==============================] - 3s 54ms/step - loss: -1279253054176100352.0000 - accuracy: 0.0500 - val_loss: -1189476005622841344.0000 - val_accuracy: 0.0760\n",
            "Epoch 97/100\n",
            "47/47 [==============================] - 3s 53ms/step - loss: -1331551187312312320.0000 - accuracy: 0.0500 - val_loss: -1239069752471584768.0000 - val_accuracy: 0.0760\n",
            "Epoch 98/100\n",
            "47/47 [==============================] - 3s 55ms/step - loss: -1391419320566808576.0000 - accuracy: 0.0500 - val_loss: -1290807684433444864.0000 - val_accuracy: 0.0760\n",
            "Epoch 99/100\n",
            "47/47 [==============================] - 3s 56ms/step - loss: -1445296077522599936.0000 - accuracy: 0.0500 - val_loss: -1343033387241177088.0000 - val_accuracy: 0.0760\n",
            "Epoch 100/100\n",
            "47/47 [==============================] - 3s 55ms/step - loss: -1501580215187406848.0000 - accuracy: 0.0500 - val_loss: -1397499344990502912.0000 - val_accuracy: 0.0760\n"
          ]
        }
      ]
    },
    {
      "cell_type": "code",
      "source": [
        "plt.plot(hist_3.history['loss'])\n",
        "plt.plot(hist_3.history['val_loss'])\n",
        "plt.title('Model loss')\n",
        "plt.ylabel('Loss')\n",
        "plt.xlabel('Epoch')\n",
        "plt.legend(['Train', 'Val'], loc='upper right')\n",
        "plt.ylim(top=1.2, bottom=0)\n",
        "plt.show()"
      ],
      "metadata": {
        "colab": {
          "base_uri": "https://localhost:8080/",
          "height": 295
        },
        "id": "0tjw5GMWBXr_",
        "outputId": "ba55806f-a5af-46bc-d532-a52d47098789"
      },
      "execution_count": 33,
      "outputs": [
        {
          "output_type": "display_data",
          "data": {
            "text/plain": [
              "<Figure size 432x288 with 1 Axes>"
            ],
            "image/png": "[encoded data removed]"
          },
          "metadata": {
            "needs_background": "light"
          }
        }
      ]
    },
    {
      "cell_type": "code",
      "source": [
        "plt.plot(hist_3.history['accuracy'])\n",
        "plt.plot(hist_3.history['val_accuracy'])\n",
        "plt.title('Model accuracy')\n",
        "plt.ylabel('Accuracy')\n",
        "plt.xlabel('Epoch')\n",
        "plt.legend(['Train', 'Val'], loc='lower right')\n",
        "plt.show()"
      ],
      "metadata": {
        "colab": {
          "base_uri": "https://localhost:8080/",
          "height": 295
        },
        "id": "LE4CK-OdDc8N",
        "outputId": "159b9154-35eb-4532-e86d-ffa0df4572d0"
      },
      "execution_count": 36,
      "outputs": [
        {
          "output_type": "display_data",
          "data": {
            "text/plain": [
              "<Figure size 432x288 with 1 Axes>"
            ],
            "image/png": "[encoded data removed]"
          },
          "metadata": {
            "needs_background": "light"
          }
        }
      ]
    }
  ]
}